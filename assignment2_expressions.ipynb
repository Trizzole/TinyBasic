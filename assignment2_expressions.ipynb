{
  "nbformat": 4,
  "nbformat_minor": 0,
  "metadata": {
    "colab": {
      "provenance": [],
      "include_colab_link": true
    },
    "kernelspec": {
      "name": "python3",
      "display_name": "Python 3"
    },
    "language_info": {
      "name": "python"
    }
  },
  "cells": [
    {
      "cell_type": "markdown",
      "metadata": {
        "id": "view-in-github",
        "colab_type": "text"
      },
      "source": [
        "<a href=\"https://colab.research.google.com/github/Trizzole/TinyBasic/blob/main/assignment2_expressions.ipynb\" target=\"_parent\"><img src=\"https://colab.research.google.com/assets/colab-badge.svg\" alt=\"Open In Colab\"/></a>"
      ]
    },
    {
      "cell_type": "code",
      "execution_count": 16,
      "metadata": {
        "colab": {
          "base_uri": "https://localhost:8080/"
        },
        "id": "fU6nHeG1F-_H",
        "outputId": "9d17d9a3-b728-4d18-bf9f-d84a1d9a04ab"
      },
      "outputs": [
        {
          "output_type": "stream",
          "name": "stdout",
          "text": [
            "('binop', '+', ('binop', '*', ('number', 2), ('number', 3)), ('binop', '*', ('number', 4), ('grouped', ('binop', '-', ('number', 5), ('name', 'x')))))\n"
          ]
        }
      ],
      "source": [
        "#download ply\n",
        "\n",
        "### RUN Once connected, but then comment out afterwards ###\n",
        "#%mkdir ply\n",
        "#%cd ply\n",
        "#!wget \"https://raw.githubusercontent.com/dabeaz/ply/master/src/ply/lex.py\"\n",
        "#!wget \"https://raw.githubusercontent.com/dabeaz/ply/master/src/ply/yacc.py\"\n",
        "\n",
        "__file__ = \"asg2_expressions.ipynb\"\n",
        "\n",
        "# -----------------------------------------------------------------------------\n",
        "# example.py\n",
        "#\n",
        "# Example of using PLY To parse the following simple grammar.\n",
        "#\n",
        "# Example valid program let x = 3; let y = 4; 3 + x * y ### no ending ; and assignments must come before the expression(only one expression)\n",
        "#\n",
        "# 2 * 3 + 4 * (5 - x) is valid syntactically, but invalid semantically, x not assigned\n",
        "#\n",
        "#   program : (assignment_list) expression\n",
        "#\n",
        "#   assignment_list : assignment ; \n",
        "#               | assignment ; assignment_list\n",
        "#\n",
        "#   assignment : let NAME = expression\n",
        "#\n",
        "#   expression : term PLUS term\n",
        "#              | term MINUS term\n",
        "#              | term\n",
        "#\n",
        "#   term       : factor TIMES factor\n",
        "#              | factor DIVIDE factor\n",
        "#              | factor\n",
        "#\n",
        "#   factor     : NUMBER\n",
        "#              | NAME\n",
        "#              | PLUS factor\n",
        "#              | MINUS factor\n",
        "#              | LPAREN expression RPAREN\n",
        "#\n",
        "# -----------------------------------------------------------------------------\n",
        "\n",
        "from ply.lex import lex\n",
        "from ply.yacc import yacc  \n",
        "\n",
        "# --- Tokenizer\n",
        "\n",
        "# All tokens must be named in advance.\n",
        "tokens = ( 'LET', 'PLUS', 'MINUS', 'TIMES', 'DIVIDE', 'LPAREN', 'RPAREN',\n",
        "           'NAME', 'NUMBER', 'EQUALS', 'SEMICOLON' )\n",
        "\n",
        "# Ignored characters\n",
        "t_ignore = ' \\r\\n\\t'\n",
        "\n",
        "# Token matching rules are written as regexs\n",
        "t_PLUS = r'\\+'\n",
        "t_MINUS = r'-'\n",
        "t_TIMES = r'\\*'\n",
        "t_DIVIDE = r'/'\n",
        "t_LPAREN = r'\\('\n",
        "t_RPAREN = r'\\)'\n",
        "t_NAME = r'[a-zA-Z_][a-zA-Z0-9_]*'\n",
        "t_EQUALS = r'=' # or r'\\=' if it needs to be escaped\n",
        "t_SEMICOLON = r';' \n",
        "\n",
        "# A function can be used if there is an associated action.\n",
        "# Write the matching regex in the docstring.\n",
        "def t_NUMBER(t):\n",
        "    r'\\d+'\n",
        "    t.value = int(t.value)\n",
        "    return t\n",
        "\n",
        "def t_NAME(t):\n",
        "    r'[a-zA-Z_][a-zA-Z0-9_]*'\n",
        "    # scan through all the reserved words and update the type\n",
        "    if t.value == 'let':\n",
        "        t.type = 'LET'\n",
        "    return t\n",
        "\n",
        "# Ignored token with an action associated with it\n",
        "def t_ignore_newline(t):\n",
        "    r'\\n+'\n",
        "    t.lexer.lineno += t.value.count('\\n')\n",
        "\n",
        "# Error handler for illegal characters\n",
        "def t_error(t):\n",
        "    print(f'Illegal character {t.value[0]!r}')\n",
        "    t.lexer.skip(1)\n",
        "\n",
        "# Build the lexer object\n",
        "lexer = lex()\n",
        "    \n",
        "# --- Parser\n",
        "\n",
        "# Write functions for each grammar rule which is\n",
        "# specified in the docstring.\n",
        "\n",
        "### try adding program/assignment_list/assignment prod rules ###\n",
        "### 5 new def statements ###\n",
        "\n",
        "def p_program_withassignments(p):\n",
        "    '''\n",
        "    program : assignment_list expression\n",
        "    '''\n",
        "    p[0] = ('assignments',p[1], p[2])\n",
        "\n",
        "def p_program_noassignments(p):\n",
        "    '''\n",
        "    program : expression\n",
        "    '''\n",
        "    p[0] = p[1]\n",
        "    \n",
        "def p_assignment_listsingle(p):\n",
        "    '''\n",
        "    assignment_list : assignment SEMICOLON\n",
        "    '''\n",
        "    p[0] = (p[1])\n",
        "    \n",
        "def p_assignment_listmultiple(p):\n",
        "    '''\n",
        "    assignment_list : assignment SEMICOLON assignment_list\n",
        "    '''\n",
        "    p[0] = p[1] + p[3]\n",
        "    ##### WHAT GOES HERE??? HINT p[3] give you a list of tuples ... what can you do with p[1] to combine it with p[3]??? #######\n",
        "    \n",
        "def p_assignment(p):\n",
        "    '''\n",
        "    assignment : LET NAME EQUALS expression\n",
        "    '''\n",
        "    p[0] = (p[2], p[4]) # this returns a tuple with variable name first, followed by the expression used to initialize the variable\n",
        "  \n",
        "\n",
        "  ### ###\n",
        "\n",
        "\n",
        "def p_expression(p):\n",
        "    '''\n",
        "    expression : term PLUS term\n",
        "               | term MINUS term\n",
        "    '''\n",
        "    # p is a sequence that represents rule contents.\n",
        "    #\n",
        "    # expression : term PLUS term\n",
        "    #   p[0]     : p[1] p[2] p[3]\n",
        "    # \n",
        "    p[0] = ('binop', p[2], p[1], p[3])\n",
        "\n",
        "def p_expression_term(p):\n",
        "    '''\n",
        "    expression : term\n",
        "    '''\n",
        "    p[0] = p[1]\n",
        "\n",
        "def p_term(p):\n",
        "    '''\n",
        "    term : factor TIMES factor\n",
        "         | factor DIVIDE factor\n",
        "    '''\n",
        "    p[0] = ('binop', p[2], p[1], p[3])\n",
        "\n",
        "def p_term_factor(p):\n",
        "    '''\n",
        "    term : factor\n",
        "    '''\n",
        "    p[0] = p[1]\n",
        "\n",
        "def p_factor_number(p):\n",
        "    '''\n",
        "    factor : NUMBER\n",
        "    '''\n",
        "    p[0] = ('number', p[1])\n",
        "\n",
        "def p_factor_name(p):\n",
        "    '''\n",
        "    factor : NAME\n",
        "    '''\n",
        "    p[0] = ('name', p[1])\n",
        "\n",
        "def p_factor_unary(p):\n",
        "    '''\n",
        "    factor : PLUS factor\n",
        "           | MINUS factor\n",
        "    '''\n",
        "    p[0] = ('unary', p[1], p[2])\n",
        "\n",
        "def p_factor_grouped(p):\n",
        "    '''\n",
        "    factor : LPAREN expression RPAREN\n",
        "    '''\n",
        "    p[0] = ('grouped', p[2])\n",
        "\n",
        "def p_error(p):\n",
        "    print(f'Syntax error at {p.value!r}')\n",
        "\n",
        "\n",
        "# Build the parser\n",
        "parser = yacc()\n",
        "\n",
        "# Parse an expression\n",
        "ast = parser.parse('2 * 3 + 4 * (5 - x)')\n",
        "print(ast)\n",
        "\n",
        "# now that we have parse tree, let's evaluate it\n",
        "\n",
        "def evaluateExpression(expr):\n",
        "  return 0\n",
        "\n",
        "def populateSymbols(symbollist):\n",
        "  symboltable = {}\n",
        "  for i in range(len(symbollist)):\n",
        "    if i%2==0:\n",
        "      symboltable[symbollist[i]] = evaluateExpression(symbollist[i+1])\n",
        "  return symboltable\n",
        "\n",
        "def evaluate(ast):\n",
        "  if ast[0] == 'assignments':\n",
        "    print('we have an assignment list')\n",
        "    symboltable = {}\n",
        "    evaluateExpression(ast[2], populateSymbols(ast[1]))\n",
        "  else:\n",
        "    print('no assignment list')\n",
        "    evaluateExpression(ast, {})\n",
        "\n",
        "\n"
      ]
    },
    {
      "cell_type": "code",
      "source": [
        "evaluate(ast)\n",
        "evaluate(xyz)"
      ],
      "metadata": {
        "colab": {
          "base_uri": "https://localhost:8080/"
        },
        "id": "7iu8RKSe_YOT",
        "outputId": "484f27b4-22fb-4475-cf68-492c5c614701"
      },
      "execution_count": 15,
      "outputs": [
        {
          "output_type": "stream",
          "name": "stdout",
          "text": [
            "no assignment list\n",
            "we have an assignment list\n"
          ]
        }
      ]
    },
    {
      "cell_type": "code",
      "source": [
        "xyz = parser.parse('let x = 4; let y = 5; let z = 6; x + y * z')\n",
        "print(xyz)"
      ],
      "metadata": {
        "colab": {
          "base_uri": "https://localhost:8080/"
        },
        "id": "Go_MmWMw80PU",
        "outputId": "020e1875-e6cf-4063-f0b0-48fcf728bff6"
      },
      "execution_count": 10,
      "outputs": [
        {
          "output_type": "stream",
          "name": "stdout",
          "text": [
            "('assignments', ('x', ('number', 4), 'y', ('number', 5), 'z', ('number', 6)), ('binop', '+', ('name', 'x'), ('binop', '*', ('name', 'y'), ('name', 'z'))))\n"
          ]
        }
      ]
    },
    {
      "cell_type": "code",
      "source": [
        "from google.colab import drive\n",
        "drive.mount('/content/drive')"
      ],
      "metadata": {
        "colab": {
          "base_uri": "https://localhost:8080/"
        },
        "id": "egLtN94lS8qP",
        "outputId": "7863974a-8d30-484f-8e4c-f7678c7197fe"
      },
      "execution_count": null,
      "outputs": [
        {
          "output_type": "stream",
          "name": "stdout",
          "text": [
            "Mounted at /content/drive\n"
          ]
        }
      ]
    }
  ]
}